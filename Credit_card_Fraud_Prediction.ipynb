{
 "cells": [
  {
   "cell_type": "markdown",
   "metadata": {},
   "source": [
    "# Credit card Fraud\n",
    "Author: Krishnav Dave"
   ]
  },
  {
   "cell_type": "markdown",
   "metadata": {},
   "source": [
    "### Problem Statement\n",
    "\n",
    "Build an automation which could classify future transaction as valid or fraud"
   ]
  },
  {
   "cell_type": "markdown",
   "metadata": {},
   "source": [
    "### Dataset\n",
    "\n",
    "1.Month: transaction month\n",
    "\n",
    "2.Date: transaction date\n",
    "\n",
    "3.Day: transaction day\n",
    "\n",
    "4.Time: transaction time\n",
    "\n",
    "5.Origin_City: city where the customer is registered from\n",
    "\n",
    "6.Destination_City: city where the transaction is generated\n",
    "\n",
    "7.Transaction_Type: method of payment (Point of sales or internet)\n",
    "\n",
    "8.Type: Valid transaction or raud transaction\n",
    "\n",
    "9.Amount: transaction amount"
   ]
  },
  {
   "cell_type": "markdown",
   "metadata": {},
   "source": [
    "### Code Structure\n",
    "\n",
    "1. Import Data\n",
    "\n",
    "2. Data Preparation\n",
    "\n",
    "3. EDA\n",
    "\n",
    "4. ML - Ensemble Techniques\n",
    "\n",
    "5. Conclusion"
   ]
  },
  {
   "cell_type": "markdown",
   "metadata": {},
   "source": [
    "### Load Data"
   ]
  },
  {
   "cell_type": "code",
   "execution_count": 1,
   "metadata": {},
   "outputs": [],
   "source": [
    "# Standrd Library\n",
    "import pandas as pd\n",
    "import numpy as np"
   ]
  },
  {
   "cell_type": "code",
   "execution_count": 2,
   "metadata": {},
   "outputs": [
    {
     "data": {
      "text/html": [
       "<div>\n",
       "<style scoped>\n",
       "    .dataframe tbody tr th:only-of-type {\n",
       "        vertical-align: middle;\n",
       "    }\n",
       "\n",
       "    .dataframe tbody tr th {\n",
       "        vertical-align: top;\n",
       "    }\n",
       "\n",
       "    .dataframe thead th {\n",
       "        text-align: right;\n",
       "    }\n",
       "</style>\n",
       "<table border=\"1\" class=\"dataframe\">\n",
       "  <thead>\n",
       "    <tr style=\"text-align: right;\">\n",
       "      <th></th>\n",
       "      <th>Month</th>\n",
       "      <th>Date</th>\n",
       "      <th>Day</th>\n",
       "      <th>Time</th>\n",
       "      <th>Origin_City</th>\n",
       "      <th>Destination_City</th>\n",
       "      <th>Transaction_Type</th>\n",
       "      <th>Type</th>\n",
       "      <th>Amount</th>\n",
       "    </tr>\n",
       "  </thead>\n",
       "  <tbody>\n",
       "    <tr>\n",
       "      <th>0</th>\n",
       "      <td>Dec</td>\n",
       "      <td>3</td>\n",
       "      <td>Sun</td>\n",
       "      <td>17</td>\n",
       "      <td>Mumbai</td>\n",
       "      <td>Karachi</td>\n",
       "      <td>POS</td>\n",
       "      <td>Normal</td>\n",
       "      <td>39972</td>\n",
       "    </tr>\n",
       "    <tr>\n",
       "      <th>1</th>\n",
       "      <td>May</td>\n",
       "      <td>13</td>\n",
       "      <td>Mon</td>\n",
       "      <td>3</td>\n",
       "      <td>Bhuj</td>\n",
       "      <td>Valencia</td>\n",
       "      <td>POS</td>\n",
       "      <td>Normal</td>\n",
       "      <td>255014</td>\n",
       "    </tr>\n",
       "    <tr>\n",
       "      <th>2</th>\n",
       "      <td>May</td>\n",
       "      <td>11</td>\n",
       "      <td>Wed</td>\n",
       "      <td>3</td>\n",
       "      <td>Srinagar</td>\n",
       "      <td>Meerut</td>\n",
       "      <td>POS</td>\n",
       "      <td>Normal</td>\n",
       "      <td>15476</td>\n",
       "    </tr>\n",
       "    <tr>\n",
       "      <th>3</th>\n",
       "      <td>Feb</td>\n",
       "      <td>16</td>\n",
       "      <td>Thu</td>\n",
       "      <td>13</td>\n",
       "      <td>Chennai</td>\n",
       "      <td>Agra</td>\n",
       "      <td>POS</td>\n",
       "      <td>Normal</td>\n",
       "      <td>254803</td>\n",
       "    </tr>\n",
       "    <tr>\n",
       "      <th>4</th>\n",
       "      <td>Jul</td>\n",
       "      <td>25</td>\n",
       "      <td>Thu</td>\n",
       "      <td>22</td>\n",
       "      <td>Kolkata</td>\n",
       "      <td>Pune</td>\n",
       "      <td>POS</td>\n",
       "      <td>Normal</td>\n",
       "      <td>134982</td>\n",
       "    </tr>\n",
       "  </tbody>\n",
       "</table>\n",
       "</div>"
      ],
      "text/plain": [
       "  Month  Date  Day  Time Origin_City Destination_City Transaction_Type  \\\n",
       "0   Dec     3  Sun    17      Mumbai          Karachi              POS   \n",
       "1   May    13  Mon     3        Bhuj         Valencia              POS   \n",
       "2   May    11  Wed     3    Srinagar           Meerut              POS   \n",
       "3   Feb    16  Thu    13     Chennai             Agra              POS   \n",
       "4   Jul    25  Thu    22     Kolkata             Pune              POS   \n",
       "\n",
       "     Type  Amount  \n",
       "0  Normal   39972  \n",
       "1  Normal  255014  \n",
       "2  Normal   15476  \n",
       "3  Normal  254803  \n",
       "4  Normal  134982  "
      ]
     },
     "execution_count": 2,
     "metadata": {},
     "output_type": "execute_result"
    }
   ],
   "source": [
    "# Training dataset\n",
    "DB = pd.read_excel(\"Credi_Card_Fraud.xlsx\",sheet_name='DB')\n",
    "DB=DB.iloc[:,1:10]\n",
    "DB.head()"
   ]
  },
  {
   "cell_type": "code",
   "execution_count": 3,
   "metadata": {},
   "outputs": [
    {
     "name": "stdout",
     "output_type": "stream",
     "text": [
      "<class 'pandas.core.frame.DataFrame'>\n",
      "RangeIndex: 5000 entries, 0 to 4999\n",
      "Data columns (total 9 columns):\n",
      "Month               5000 non-null object\n",
      "Date                5000 non-null int64\n",
      "Day                 5000 non-null object\n",
      "Time                5000 non-null int64\n",
      "Origin_City         5000 non-null object\n",
      "Destination_City    5000 non-null object\n",
      "Transaction_Type    5000 non-null object\n",
      "Type                5000 non-null object\n",
      "Amount              5000 non-null int64\n",
      "dtypes: int64(3), object(6)\n",
      "memory usage: 351.6+ KB\n"
     ]
    }
   ],
   "source": [
    "DB.info()"
   ]
  },
  {
   "cell_type": "markdown",
   "metadata": {},
   "source": [
    "### Data Preparation"
   ]
  },
  {
   "cell_type": "code",
   "execution_count": 4,
   "metadata": {},
   "outputs": [],
   "source": [
    "# Categorial to numeric\n",
    "\n",
    "from sklearn.preprocessing import Imputer\n",
    "from sklearn import preprocessing\n",
    "\n",
    "le = preprocessing.LabelEncoder()\n",
    "\n",
    "DB['Amount'] = le.fit_transform(DB['Amount'])\n",
    "DB['Transaction_Type'] = le.fit_transform(DB['Transaction_Type'])\n",
    "DB['Type'] = le.fit_transform(DB['Type'])\n",
    "DB['Month'] = le.fit_transform(DB['Month'])\n",
    "DB['Day'] = le.fit_transform(DB['Day'])"
   ]
  },
  {
   "cell_type": "code",
   "execution_count": 5,
   "metadata": {},
   "outputs": [
    {
     "name": "stderr",
     "output_type": "stream",
     "text": [
      "C:\\Users\\PRITHVIRAJ\\AppData\\Local\\Continuum\\anaconda3\\lib\\site-packages\\ipykernel_launcher.py:5: DeprecationWarning: \n",
      ".ix is deprecated. Please use\n",
      ".loc for label based indexing or\n",
      ".iloc for positional indexing\n",
      "\n",
      "See the documentation here:\n",
      "http://pandas.pydata.org/pandas-docs/stable/indexing.html#ix-indexer-is-deprecated\n",
      "  \"\"\"\n",
      "C:\\Users\\PRITHVIRAJ\\AppData\\Local\\Continuum\\anaconda3\\lib\\site-packages\\ipykernel_launcher.py:6: DeprecationWarning: \n",
      ".ix is deprecated. Please use\n",
      ".loc for label based indexing or\n",
      ".iloc for positional indexing\n",
      "\n",
      "See the documentation here:\n",
      "http://pandas.pydata.org/pandas-docs/stable/indexing.html#ix-indexer-is-deprecated\n",
      "  \n",
      "C:\\Users\\PRITHVIRAJ\\AppData\\Local\\Continuum\\anaconda3\\lib\\site-packages\\ipykernel_launcher.py:10: DeprecationWarning: \n",
      ".ix is deprecated. Please use\n",
      ".loc for label based indexing or\n",
      ".iloc for positional indexing\n",
      "\n",
      "See the documentation here:\n",
      "http://pandas.pydata.org/pandas-docs/stable/indexing.html#ix-indexer-is-deprecated\n",
      "  # Remove the CWD from sys.path while we load stuff.\n",
      "C:\\Users\\PRITHVIRAJ\\AppData\\Local\\Continuum\\anaconda3\\lib\\site-packages\\ipykernel_launcher.py:8: DeprecationWarning: \n",
      ".ix is deprecated. Please use\n",
      ".loc for label based indexing or\n",
      ".iloc for positional indexing\n",
      "\n",
      "See the documentation here:\n",
      "http://pandas.pydata.org/pandas-docs/stable/indexing.html#ix-indexer-is-deprecated\n",
      "  \n"
     ]
    }
   ],
   "source": [
    "# Categorical to numeric : CITY [If origin city and destination city not equal then flag it 1]\n",
    "\n",
    "DB['City']=0\n",
    "for i in range(len(DB['Month'])):\n",
    "    a=DB.ix[i,'Origin_City']\n",
    "    b=DB.ix[i,'Destination_City']\n",
    "    if a==b:\n",
    "        DB.ix[i,'City']=0\n",
    "    else:\n",
    "        DB.ix[i,'City']=1"
   ]
  },
  {
   "cell_type": "code",
   "execution_count": 6,
   "metadata": {},
   "outputs": [
    {
     "name": "stderr",
     "output_type": "stream",
     "text": [
      "C:\\Users\\PRITHVIRAJ\\AppData\\Local\\Continuum\\anaconda3\\lib\\site-packages\\ipykernel_launcher.py:6: DeprecationWarning: \n",
      ".ix is deprecated. Please use\n",
      ".loc for label based indexing or\n",
      ".iloc for positional indexing\n",
      "\n",
      "See the documentation here:\n",
      "http://pandas.pydata.org/pandas-docs/stable/indexing.html#ix-indexer-is-deprecated\n",
      "  \n",
      "C:\\Users\\PRITHVIRAJ\\AppData\\Local\\Continuum\\anaconda3\\lib\\site-packages\\ipykernel_launcher.py:10: DeprecationWarning: \n",
      ".ix is deprecated. Please use\n",
      ".loc for label based indexing or\n",
      ".iloc for positional indexing\n",
      "\n",
      "See the documentation here:\n",
      "http://pandas.pydata.org/pandas-docs/stable/indexing.html#ix-indexer-is-deprecated\n",
      "  # Remove the CWD from sys.path while we load stuff.\n",
      "C:\\Users\\PRITHVIRAJ\\AppData\\Local\\Continuum\\anaconda3\\lib\\site-packages\\ipykernel_launcher.py:8: DeprecationWarning: \n",
      ".ix is deprecated. Please use\n",
      ".loc for label based indexing or\n",
      ".iloc for positional indexing\n",
      "\n",
      "See the documentation here:\n",
      "http://pandas.pydata.org/pandas-docs/stable/indexing.html#ix-indexer-is-deprecated\n",
      "  \n"
     ]
    }
   ],
   "source": [
    "# Categorical to numeric : Amount  [if amount greater than its mean then assign it 1]\n",
    "\n",
    "DB['Amount_Class']=0\n",
    "mean=DB['Amount'].mean()\n",
    "for i in range(len(DB['Amount'])):\n",
    "    a=DB.ix[i,'Amount']\n",
    "    if a>=mean:\n",
    "        DB.ix[i,'Amount_Class']=1\n",
    "    else:\n",
    "        DB.ix[i,'Amount_Class']=0"
   ]
  },
  {
   "cell_type": "code",
   "execution_count": 7,
   "metadata": {},
   "outputs": [
    {
     "name": "stderr",
     "output_type": "stream",
     "text": [
      "C:\\Users\\PRITHVIRAJ\\AppData\\Local\\Continuum\\anaconda3\\lib\\site-packages\\ipykernel_launcher.py:4: DeprecationWarning: \n",
      ".ix is deprecated. Please use\n",
      ".loc for label based indexing or\n",
      ".iloc for positional indexing\n",
      "\n",
      "See the documentation here:\n",
      "http://pandas.pydata.org/pandas-docs/stable/indexing.html#ix-indexer-is-deprecated\n",
      "  after removing the cwd from sys.path.\n",
      "C:\\Users\\PRITHVIRAJ\\AppData\\Local\\Continuum\\anaconda3\\lib\\site-packages\\ipykernel_launcher.py:8: DeprecationWarning: \n",
      ".ix is deprecated. Please use\n",
      ".loc for label based indexing or\n",
      ".iloc for positional indexing\n",
      "\n",
      "See the documentation here:\n",
      "http://pandas.pydata.org/pandas-docs/stable/indexing.html#ix-indexer-is-deprecated\n",
      "  \n",
      "C:\\Users\\PRITHVIRAJ\\AppData\\Local\\Continuum\\anaconda3\\lib\\site-packages\\ipykernel_launcher.py:6: DeprecationWarning: \n",
      ".ix is deprecated. Please use\n",
      ".loc for label based indexing or\n",
      ".iloc for positional indexing\n",
      "\n",
      "See the documentation here:\n",
      "http://pandas.pydata.org/pandas-docs/stable/indexing.html#ix-indexer-is-deprecated\n",
      "  \n"
     ]
    }
   ],
   "source": [
    "# Categorical to mnumeric : Type\n",
    "\n",
    "for i in range(len(DB['Type'])):\n",
    "    a=DB.ix[i,'Type']\n",
    "    if a==0:\n",
    "        DB.ix[i,'Type']=1\n",
    "    else:\n",
    "        DB.ix[i,'Type']=0"
   ]
  },
  {
   "cell_type": "code",
   "execution_count": 8,
   "metadata": {},
   "outputs": [
    {
     "data": {
      "text/html": [
       "<div>\n",
       "<style scoped>\n",
       "    .dataframe tbody tr th:only-of-type {\n",
       "        vertical-align: middle;\n",
       "    }\n",
       "\n",
       "    .dataframe tbody tr th {\n",
       "        vertical-align: top;\n",
       "    }\n",
       "\n",
       "    .dataframe thead th {\n",
       "        text-align: right;\n",
       "    }\n",
       "</style>\n",
       "<table border=\"1\" class=\"dataframe\">\n",
       "  <thead>\n",
       "    <tr style=\"text-align: right;\">\n",
       "      <th></th>\n",
       "      <th>Month</th>\n",
       "      <th>Date</th>\n",
       "      <th>Day</th>\n",
       "      <th>Time</th>\n",
       "      <th>Origin_City</th>\n",
       "      <th>Destination_City</th>\n",
       "      <th>Transaction_Type</th>\n",
       "      <th>Type</th>\n",
       "      <th>Amount</th>\n",
       "      <th>City</th>\n",
       "      <th>Amount_Class</th>\n",
       "    </tr>\n",
       "  </thead>\n",
       "  <tbody>\n",
       "    <tr>\n",
       "      <th>0</th>\n",
       "      <td>2</td>\n",
       "      <td>3</td>\n",
       "      <td>3</td>\n",
       "      <td>17</td>\n",
       "      <td>Mumbai</td>\n",
       "      <td>Karachi</td>\n",
       "      <td>1</td>\n",
       "      <td>0</td>\n",
       "      <td>588</td>\n",
       "      <td>1</td>\n",
       "      <td>0</td>\n",
       "    </tr>\n",
       "    <tr>\n",
       "      <th>1</th>\n",
       "      <td>8</td>\n",
       "      <td>13</td>\n",
       "      <td>1</td>\n",
       "      <td>3</td>\n",
       "      <td>Bhuj</td>\n",
       "      <td>Valencia</td>\n",
       "      <td>1</td>\n",
       "      <td>0</td>\n",
       "      <td>3609</td>\n",
       "      <td>1</td>\n",
       "      <td>1</td>\n",
       "    </tr>\n",
       "    <tr>\n",
       "      <th>2</th>\n",
       "      <td>8</td>\n",
       "      <td>11</td>\n",
       "      <td>6</td>\n",
       "      <td>3</td>\n",
       "      <td>Srinagar</td>\n",
       "      <td>Meerut</td>\n",
       "      <td>1</td>\n",
       "      <td>0</td>\n",
       "      <td>220</td>\n",
       "      <td>1</td>\n",
       "      <td>0</td>\n",
       "    </tr>\n",
       "    <tr>\n",
       "      <th>3</th>\n",
       "      <td>3</td>\n",
       "      <td>16</td>\n",
       "      <td>4</td>\n",
       "      <td>13</td>\n",
       "      <td>Chennai</td>\n",
       "      <td>Agra</td>\n",
       "      <td>1</td>\n",
       "      <td>0</td>\n",
       "      <td>3604</td>\n",
       "      <td>1</td>\n",
       "      <td>1</td>\n",
       "    </tr>\n",
       "    <tr>\n",
       "      <th>4</th>\n",
       "      <td>5</td>\n",
       "      <td>25</td>\n",
       "      <td>4</td>\n",
       "      <td>22</td>\n",
       "      <td>Kolkata</td>\n",
       "      <td>Pune</td>\n",
       "      <td>1</td>\n",
       "      <td>0</td>\n",
       "      <td>1897</td>\n",
       "      <td>1</td>\n",
       "      <td>0</td>\n",
       "    </tr>\n",
       "  </tbody>\n",
       "</table>\n",
       "</div>"
      ],
      "text/plain": [
       "   Month  Date  Day  Time Origin_City Destination_City  Transaction_Type  \\\n",
       "0      2     3    3    17      Mumbai          Karachi                 1   \n",
       "1      8    13    1     3        Bhuj         Valencia                 1   \n",
       "2      8    11    6     3    Srinagar           Meerut                 1   \n",
       "3      3    16    4    13     Chennai             Agra                 1   \n",
       "4      5    25    4    22     Kolkata             Pune                 1   \n",
       "\n",
       "   Type  Amount  City  Amount_Class  \n",
       "0     0     588     1             0  \n",
       "1     0    3609     1             1  \n",
       "2     0     220     1             0  \n",
       "3     0    3604     1             1  \n",
       "4     0    1897     1             0  "
      ]
     },
     "execution_count": 8,
     "metadata": {},
     "output_type": "execute_result"
    }
   ],
   "source": [
    "DB.head()"
   ]
  },
  {
   "cell_type": "code",
   "execution_count": 9,
   "metadata": {},
   "outputs": [
    {
     "name": "stdout",
     "output_type": "stream",
     "text": [
      "<class 'pandas.core.frame.DataFrame'>\n",
      "RangeIndex: 5000 entries, 0 to 4999\n",
      "Data columns (total 11 columns):\n",
      "Month               5000 non-null int32\n",
      "Date                5000 non-null int64\n",
      "Day                 5000 non-null int32\n",
      "Time                5000 non-null int64\n",
      "Origin_City         5000 non-null object\n",
      "Destination_City    5000 non-null object\n",
      "Transaction_Type    5000 non-null int32\n",
      "Type                5000 non-null int32\n",
      "Amount              5000 non-null int64\n",
      "City                5000 non-null int64\n",
      "Amount_Class        5000 non-null int64\n",
      "dtypes: int32(4), int64(5), object(2)\n",
      "memory usage: 351.6+ KB\n"
     ]
    }
   ],
   "source": [
    "DB.info()"
   ]
  },
  {
   "cell_type": "code",
   "execution_count": 10,
   "metadata": {},
   "outputs": [
    {
     "data": {
      "text/html": [
       "<div>\n",
       "<style scoped>\n",
       "    .dataframe tbody tr th:only-of-type {\n",
       "        vertical-align: middle;\n",
       "    }\n",
       "\n",
       "    .dataframe tbody tr th {\n",
       "        vertical-align: top;\n",
       "    }\n",
       "\n",
       "    .dataframe thead th {\n",
       "        text-align: right;\n",
       "    }\n",
       "</style>\n",
       "<table border=\"1\" class=\"dataframe\">\n",
       "  <thead>\n",
       "    <tr style=\"text-align: right;\">\n",
       "      <th></th>\n",
       "      <th>count</th>\n",
       "      <th>mean</th>\n",
       "      <th>std</th>\n",
       "      <th>min</th>\n",
       "      <th>25%</th>\n",
       "      <th>50%</th>\n",
       "      <th>75%</th>\n",
       "      <th>max</th>\n",
       "    </tr>\n",
       "  </thead>\n",
       "  <tbody>\n",
       "    <tr>\n",
       "      <th>Month</th>\n",
       "      <td>5000.0</td>\n",
       "      <td>5.4616</td>\n",
       "      <td>3.418079</td>\n",
       "      <td>0.0</td>\n",
       "      <td>2.75</td>\n",
       "      <td>5.0</td>\n",
       "      <td>8.00</td>\n",
       "      <td>11.0</td>\n",
       "    </tr>\n",
       "    <tr>\n",
       "      <th>Date</th>\n",
       "      <td>5000.0</td>\n",
       "      <td>16.1524</td>\n",
       "      <td>8.905203</td>\n",
       "      <td>1.0</td>\n",
       "      <td>9.00</td>\n",
       "      <td>16.0</td>\n",
       "      <td>24.00</td>\n",
       "      <td>31.0</td>\n",
       "    </tr>\n",
       "    <tr>\n",
       "      <th>Day</th>\n",
       "      <td>5000.0</td>\n",
       "      <td>3.0122</td>\n",
       "      <td>1.998412</td>\n",
       "      <td>0.0</td>\n",
       "      <td>1.00</td>\n",
       "      <td>3.0</td>\n",
       "      <td>5.00</td>\n",
       "      <td>6.0</td>\n",
       "    </tr>\n",
       "    <tr>\n",
       "      <th>Time</th>\n",
       "      <td>5000.0</td>\n",
       "      <td>11.3532</td>\n",
       "      <td>7.064250</td>\n",
       "      <td>0.0</td>\n",
       "      <td>5.00</td>\n",
       "      <td>11.0</td>\n",
       "      <td>17.00</td>\n",
       "      <td>23.0</td>\n",
       "    </tr>\n",
       "    <tr>\n",
       "      <th>Transaction_Type</th>\n",
       "      <td>5000.0</td>\n",
       "      <td>0.5016</td>\n",
       "      <td>0.500047</td>\n",
       "      <td>0.0</td>\n",
       "      <td>0.00</td>\n",
       "      <td>1.0</td>\n",
       "      <td>1.00</td>\n",
       "      <td>1.0</td>\n",
       "    </tr>\n",
       "    <tr>\n",
       "      <th>Type</th>\n",
       "      <td>5000.0</td>\n",
       "      <td>0.2024</td>\n",
       "      <td>0.401829</td>\n",
       "      <td>0.0</td>\n",
       "      <td>0.00</td>\n",
       "      <td>0.0</td>\n",
       "      <td>0.00</td>\n",
       "      <td>1.0</td>\n",
       "    </tr>\n",
       "    <tr>\n",
       "      <th>Amount</th>\n",
       "      <td>5000.0</td>\n",
       "      <td>2482.2602</td>\n",
       "      <td>1434.580598</td>\n",
       "      <td>0.0</td>\n",
       "      <td>1239.75</td>\n",
       "      <td>2485.5</td>\n",
       "      <td>3722.25</td>\n",
       "      <td>4968.0</td>\n",
       "    </tr>\n",
       "    <tr>\n",
       "      <th>City</th>\n",
       "      <td>5000.0</td>\n",
       "      <td>0.9760</td>\n",
       "      <td>0.153064</td>\n",
       "      <td>0.0</td>\n",
       "      <td>1.00</td>\n",
       "      <td>1.0</td>\n",
       "      <td>1.00</td>\n",
       "      <td>1.0</td>\n",
       "    </tr>\n",
       "    <tr>\n",
       "      <th>Amount_Class</th>\n",
       "      <td>5000.0</td>\n",
       "      <td>0.5006</td>\n",
       "      <td>0.500050</td>\n",
       "      <td>0.0</td>\n",
       "      <td>0.00</td>\n",
       "      <td>1.0</td>\n",
       "      <td>1.00</td>\n",
       "      <td>1.0</td>\n",
       "    </tr>\n",
       "  </tbody>\n",
       "</table>\n",
       "</div>"
      ],
      "text/plain": [
       "                   count       mean          std  min      25%     50%  \\\n",
       "Month             5000.0     5.4616     3.418079  0.0     2.75     5.0   \n",
       "Date              5000.0    16.1524     8.905203  1.0     9.00    16.0   \n",
       "Day               5000.0     3.0122     1.998412  0.0     1.00     3.0   \n",
       "Time              5000.0    11.3532     7.064250  0.0     5.00    11.0   \n",
       "Transaction_Type  5000.0     0.5016     0.500047  0.0     0.00     1.0   \n",
       "Type              5000.0     0.2024     0.401829  0.0     0.00     0.0   \n",
       "Amount            5000.0  2482.2602  1434.580598  0.0  1239.75  2485.5   \n",
       "City              5000.0     0.9760     0.153064  0.0     1.00     1.0   \n",
       "Amount_Class      5000.0     0.5006     0.500050  0.0     0.00     1.0   \n",
       "\n",
       "                      75%     max  \n",
       "Month                8.00    11.0  \n",
       "Date                24.00    31.0  \n",
       "Day                  5.00     6.0  \n",
       "Time                17.00    23.0  \n",
       "Transaction_Type     1.00     1.0  \n",
       "Type                 0.00     1.0  \n",
       "Amount            3722.25  4968.0  \n",
       "City                 1.00     1.0  \n",
       "Amount_Class         1.00     1.0  "
      ]
     },
     "execution_count": 10,
     "metadata": {},
     "output_type": "execute_result"
    }
   ],
   "source": [
    "DB.describe().T"
   ]
  },
  {
   "cell_type": "markdown",
   "metadata": {},
   "source": [
    "## EDA"
   ]
  },
  {
   "cell_type": "code",
   "execution_count": 11,
   "metadata": {},
   "outputs": [
    {
     "data": {
      "text/plain": [
       "0    3988\n",
       "1    1012\n",
       "Name: Type, dtype: int64"
      ]
     },
     "execution_count": 11,
     "metadata": {},
     "output_type": "execute_result"
    }
   ],
   "source": [
    "# Target balance check: Not balanced in this case\n",
    "\n",
    "DB['Type'].value_counts()"
   ]
  },
  {
   "cell_type": "code",
   "execution_count": 12,
   "metadata": {},
   "outputs": [
    {
     "name": "stdout",
     "output_type": "stream",
     "text": [
      "Unique Origin cities 23\n",
      "Unique Destination cities 23\n"
     ]
    },
    {
     "data": {
      "text/plain": [
       "Origin_City  Destination_City\n",
       "Chennai      Rajkot              6\n",
       "Lucknow      Jeddah              6\n",
       "Chennai      Bhuj                6\n",
       "             Gurugram            5\n",
       "Chandigarh   Phoenix             5\n",
       "Nasik        Chennai             5\n",
       "Pune         Sau Paulo           5\n",
       "             Pune                5\n",
       "Chennai      New york            5\n",
       "Delhi        Vadodara            5\n",
       "Name: Type, dtype: int32"
      ]
     },
     "execution_count": 12,
     "metadata": {},
     "output_type": "execute_result"
    }
   ],
   "source": [
    "# Location vs fraud\n",
    "\n",
    "# Origin\n",
    "Origin = DB['Origin_City'].dropna()\n",
    "Unique_Origin = set(Origin)\n",
    "print (\"Unique Origin cities\", len(Unique_Origin))\n",
    "\n",
    "# Destination City\n",
    "Destination = DB['Destination_City'].dropna()\n",
    "Unique_Destination = set(Origin)\n",
    "print (\"Unique Destination cities\", len(Unique_Destination))\n",
    "\n",
    "# Group \n",
    "Group=DB.groupby(['Origin_City','Destination_City'])['Type'].sum().sort_values(ascending=False)\n",
    "Group.head(10)"
   ]
  },
  {
   "cell_type": "code",
   "execution_count": 13,
   "metadata": {},
   "outputs": [
    {
     "name": "stdout",
     "output_type": "stream",
     "text": [
      "Unique Dates 31\n",
      "Unique Time 24\n",
      "Unique Day 7\n",
      "Unique Month 12\n"
     ]
    }
   ],
   "source": [
    "# Time and date vs fraud\n",
    "\n",
    "# Date\n",
    "Date = DB['Date'].dropna()\n",
    "Unique_Date = set(Date)\n",
    "print (\"Unique Dates\", len(Unique_Date))\n",
    "\n",
    "# Time\n",
    "Time = DB['Time'].dropna()\n",
    "Unique_Time = set(Time)\n",
    "print (\"Unique Time\", len(Unique_Time))\n",
    "\n",
    "# Time\n",
    "Day = DB['Day'].dropna()\n",
    "Unique_Day = set(Day)\n",
    "print (\"Unique Day\", len(Unique_Day))\n",
    "\n",
    "# Time\n",
    "Month = DB['Month'].dropna()\n",
    "Unique_Month = set(Month)\n",
    "print (\"Unique Month\", len(Unique_Month))"
   ]
  },
  {
   "cell_type": "code",
   "execution_count": 14,
   "metadata": {},
   "outputs": [
    {
     "data": {
      "text/plain": [
       "Date\n",
       "28    52\n",
       "26    45\n",
       "7     44\n",
       "2     40\n",
       "27    40\n",
       "14    40\n",
       "15    38\n",
       "11    38\n",
       "1     36\n",
       "24    35\n",
       "Name: Type, dtype: int32"
      ]
     },
     "execution_count": 14,
     "metadata": {},
     "output_type": "execute_result"
    }
   ],
   "source": [
    "# Group: Date vs Type Fraud\n",
    "Group=DB.groupby(['Date'])['Type'].sum().sort_values(ascending=False)\n",
    "Group.head(10)"
   ]
  },
  {
   "cell_type": "code",
   "execution_count": 15,
   "metadata": {},
   "outputs": [
    {
     "data": {
      "text/plain": [
       "Time\n",
       "8     58\n",
       "0     51\n",
       "1     50\n",
       "10    49\n",
       "12    48\n",
       "5     46\n",
       "3     44\n",
       "4     43\n",
       "7     42\n",
       "21    42\n",
       "Name: Type, dtype: int32"
      ]
     },
     "execution_count": 15,
     "metadata": {},
     "output_type": "execute_result"
    }
   ],
   "source": [
    "# Group: Time vs Type Fraud \n",
    "Group=DB.groupby(['Time'])['Type'].sum().sort_values(ascending=False)\n",
    "Group.head(10)"
   ]
  },
  {
   "cell_type": "code",
   "execution_count": 16,
   "metadata": {},
   "outputs": [
    {
     "data": {
      "text/plain": [
       "Day\n",
       "6    155\n",
       "2    153\n",
       "3    147\n",
       "5    145\n",
       "1    144\n",
       "4    135\n",
       "0    133\n",
       "Name: Type, dtype: int32"
      ]
     },
     "execution_count": 16,
     "metadata": {},
     "output_type": "execute_result"
    }
   ],
   "source": [
    "# Group: Day vs Type Fraud \n",
    "Group=DB.groupby(['Day'])['Type'].sum().sort_values(ascending=False)\n",
    "Group.head(10)"
   ]
  },
  {
   "cell_type": "code",
   "execution_count": 17,
   "metadata": {},
   "outputs": [
    {
     "data": {
      "text/plain": [
       "Month\n",
       "6     107\n",
       "4      95\n",
       "10     89\n",
       "0      89\n",
       "2      86\n",
       "9      83\n",
       "3      83\n",
       "1      83\n",
       "11     77\n",
       "7      77\n",
       "Name: Type, dtype: int32"
      ]
     },
     "execution_count": 17,
     "metadata": {},
     "output_type": "execute_result"
    }
   ],
   "source": [
    "# Group: Month vs Type Fraud \n",
    "Group=DB.groupby(['Month'])['Type'].sum().sort_values(ascending=False)\n",
    "Group.head(10)"
   ]
  },
  {
   "cell_type": "code",
   "execution_count": 18,
   "metadata": {},
   "outputs": [
    {
     "data": {
      "text/plain": [
       "Month  Date  Time  Day\n",
       "8      8     8     0      2\n",
       "1      15    6     2      2\n",
       "7      16    2     3      2\n",
       "2      29    16    1      2\n",
       "9      24    12    1      2\n",
       "2      10    22    1      2\n",
       "10     27    8     3      2\n",
       "9      14    22    3      2\n",
       "6      12    11    4      2\n",
       "4      11    0     1      2\n",
       "Name: Type, dtype: int32"
      ]
     },
     "execution_count": 18,
     "metadata": {},
     "output_type": "execute_result"
    }
   ],
   "source": [
    "# Group : All parameters vs fraud\n",
    "Group=DB.groupby(['Month','Date','Time','Day'])['Type'].sum().sort_values(ascending=False)\n",
    "Group.head(10)"
   ]
  },
  {
   "cell_type": "code",
   "execution_count": 19,
   "metadata": {},
   "outputs": [
    {
     "data": {
      "text/plain": [
       "Date  Time  Day\n",
       "15    0     6      3\n",
       "14    22    3      3\n",
       "31    19    1      3\n",
       "25    5     6      3\n",
       "28    5     0      2\n",
       "9     3     1      2\n",
       "26    0     0      2\n",
       "10    22    1      2\n",
       "26    0     5      2\n",
       "27    21    1      2\n",
       "Name: Type, dtype: int32"
      ]
     },
     "execution_count": 19,
     "metadata": {},
     "output_type": "execute_result"
    }
   ],
   "source": [
    "# Group \n",
    "Group=DB.groupby(['Date','Time','Day'])['Type'].sum().sort_values(ascending=False)\n",
    "Group.head(10)"
   ]
  },
  {
   "cell_type": "code",
   "execution_count": 20,
   "metadata": {},
   "outputs": [
    {
     "name": "stdout",
     "output_type": "stream",
     "text": [
      "Total Fradulent Amount: 2517052\n",
      "Total  Amount: 12411301\n",
      "Fraud Amount % 20.28 %\n"
     ]
    },
    {
     "name": "stderr",
     "output_type": "stream",
     "text": [
      "C:\\Users\\PRITHVIRAJ\\AppData\\Local\\Continuum\\anaconda3\\lib\\site-packages\\ipykernel_launcher.py:8: DeprecationWarning: \n",
      ".ix is deprecated. Please use\n",
      ".loc for label based indexing or\n",
      ".iloc for positional indexing\n",
      "\n",
      "See the documentation here:\n",
      "http://pandas.pydata.org/pandas-docs/stable/indexing.html#ix-indexer-is-deprecated\n",
      "  \n"
     ]
    }
   ],
   "source": [
    "# Total FRAUD LOSSES\n",
    "\n",
    "Amount_Fraud=0\n",
    "Amount_Total=0\n",
    "\n",
    "for i in range(len(DB['Type'])):\n",
    "    Amount_Total=Amount_Total+DB.loc[i,\"Amount\"]\n",
    "    if DB.ix[i,'Type']==1:\n",
    "        Amount_Fraud=Amount_Fraud+DB.loc[i,\"Amount\"]\n",
    "\n",
    "print(\"Total Fradulent Amount:\",Amount_Fraud)\n",
    "print(\"Total  Amount:\",Amount_Total)\n",
    "print(\"Fraud Amount %\",round(100*Amount_Fraud/Amount_Total,2),'%')"
   ]
  },
  {
   "cell_type": "markdown",
   "metadata": {},
   "source": [
    "### Machine Learning: Ensemble tech"
   ]
  },
  {
   "cell_type": "code",
   "execution_count": 21,
   "metadata": {},
   "outputs": [],
   "source": [
    "# Independent vs target variable\n",
    "\n",
    "y = DB['Type']\n",
    "X = DB[['Month','Date','Day','Time','Transaction_Type','City','Amount_Class']]\n",
    "\n",
    "# Test Train Split\n",
    "\n",
    "from sklearn.model_selection import train_test_split\n",
    "X_train, X_test, y_train, y_test = train_test_split(X, y, test_size=.30, random_state=100)"
   ]
  },
  {
   "cell_type": "code",
   "execution_count": 22,
   "metadata": {},
   "outputs": [],
   "source": [
    "# Normalisation\n",
    "#from sklearn.preprocessing import StandardScaler\n",
    "#X_train_sd = StandardScaler().fit_transform(X_train)\n",
    "#X_test_sd = StandardScaler().fit_transform(X_test)"
   ]
  },
  {
   "cell_type": "code",
   "execution_count": 23,
   "metadata": {},
   "outputs": [
    {
     "name": "stdout",
     "output_type": "stream",
     "text": [
      "Confusion Matrix:\n",
      " [[1191    0]\n",
      " [ 309    0]]\n"
     ]
    },
    {
     "data": {
      "text/html": [
       "<div>\n",
       "<style scoped>\n",
       "    .dataframe tbody tr th:only-of-type {\n",
       "        vertical-align: middle;\n",
       "    }\n",
       "\n",
       "    .dataframe tbody tr th {\n",
       "        vertical-align: top;\n",
       "    }\n",
       "\n",
       "    .dataframe thead th {\n",
       "        text-align: right;\n",
       "    }\n",
       "</style>\n",
       "<table border=\"1\" class=\"dataframe\">\n",
       "  <thead>\n",
       "    <tr style=\"text-align: right;\">\n",
       "      <th></th>\n",
       "      <th>Method</th>\n",
       "      <th>Train Accuracy</th>\n",
       "      <th>Test Accuracy</th>\n",
       "      <th>Recall</th>\n",
       "    </tr>\n",
       "  </thead>\n",
       "  <tbody>\n",
       "    <tr>\n",
       "      <th>0</th>\n",
       "      <td>Decision Tree</td>\n",
       "      <td>0.799143</td>\n",
       "      <td>0.794</td>\n",
       "      <td>0.0</td>\n",
       "    </tr>\n",
       "  </tbody>\n",
       "</table>\n",
       "</div>"
      ],
      "text/plain": [
       "          Method  Train Accuracy  Test Accuracy  Recall\n",
       "0  Decision Tree        0.799143          0.794     0.0"
      ]
     },
     "execution_count": 23,
     "metadata": {},
     "output_type": "execute_result"
    }
   ],
   "source": [
    "# Library\n",
    "from sklearn.tree import DecisionTreeClassifier\n",
    "from sklearn import metrics\n",
    "from sklearn.metrics import accuracy_score,f1_score,recall_score,precision_score, confusion_matrix\n",
    "\n",
    "# Model\n",
    "model_DT=DecisionTreeClassifier(criterion='entropy',max_depth=4)\n",
    "model_DT.fit(X_train, y_train)\n",
    "\n",
    "# Accuracy\n",
    "Accuracy_DT_Train=model_DT.score(X_train, y_train)\n",
    "Accuracy_DT_Test=model_DT.score(X_test, y_test)\n",
    "#print(\"Training Accuracy:\",Accuracy_DT_Train)\n",
    "#print(\"Test Accuracy:\",Accuracy_DT_Test)\n",
    "\n",
    "Predict_DT=model_DT.predict(X_test)\n",
    "Recall_DT = recall_score(y_test,Predict_DT,average=\"binary\", pos_label=1)\n",
    "\n",
    "print(\"Confusion Matrix:\\n\",metrics.confusion_matrix(y_test, Predict_DT))\n",
    "\n",
    "\n",
    "\n",
    "#Store the accuracy results for each model in a dataframe for final comparison\n",
    "resultsDf = pd.DataFrame({'Method':['Decision Tree'], 'Train Accuracy': Accuracy_DT_Train, 'Test Accuracy': Accuracy_DT_Test , 'Recall': Recall_DT})\n",
    "resultsDf = resultsDf[['Method', 'Train Accuracy', 'Test Accuracy', 'Recall']]\n",
    "resultsDf"
   ]
  },
  {
   "cell_type": "code",
   "execution_count": 24,
   "metadata": {},
   "outputs": [
    {
     "name": "stdout",
     "output_type": "stream",
     "text": [
      "Confusion Matrix:\n",
      " [[1155   36]\n",
      " [ 303    6]]\n"
     ]
    },
    {
     "data": {
      "text/html": [
       "<div>\n",
       "<style scoped>\n",
       "    .dataframe tbody tr th:only-of-type {\n",
       "        vertical-align: middle;\n",
       "    }\n",
       "\n",
       "    .dataframe tbody tr th {\n",
       "        vertical-align: top;\n",
       "    }\n",
       "\n",
       "    .dataframe thead th {\n",
       "        text-align: right;\n",
       "    }\n",
       "</style>\n",
       "<table border=\"1\" class=\"dataframe\">\n",
       "  <thead>\n",
       "    <tr style=\"text-align: right;\">\n",
       "      <th></th>\n",
       "      <th>Method</th>\n",
       "      <th>Train Accuracy</th>\n",
       "      <th>Test Accuracy</th>\n",
       "      <th>Recall</th>\n",
       "    </tr>\n",
       "  </thead>\n",
       "  <tbody>\n",
       "    <tr>\n",
       "      <th>0</th>\n",
       "      <td>Random Forest</td>\n",
       "      <td>0.998857</td>\n",
       "      <td>0.774</td>\n",
       "      <td>0.019417</td>\n",
       "    </tr>\n",
       "  </tbody>\n",
       "</table>\n",
       "</div>"
      ],
      "text/plain": [
       "          Method  Train Accuracy  Test Accuracy    Recall\n",
       "0  Random Forest        0.998857          0.774  0.019417"
      ]
     },
     "execution_count": 24,
     "metadata": {},
     "output_type": "execute_result"
    }
   ],
   "source": [
    "# Library\n",
    "from sklearn.ensemble import RandomForestClassifier\n",
    "\n",
    "# Model\n",
    "model_RF = RandomForestClassifier(n_estimators =100,bootstrap=True, oob_score=True)\n",
    "model_RF.fit(X_train, y_train)\n",
    "\n",
    "# Accuracy\n",
    "pred_RF = model_RF.predict(X_train)\n",
    "Accuracy_RF_Train = accuracy_score(y_train, pred_RF)\n",
    "\n",
    "pred_RF1 = model_RF.predict(X_test)\n",
    "Accuracy_RF_Test = accuracy_score(y_test, pred_RF1)\n",
    "\n",
    "#print(\" Train Accuracy:\",Accuracy_RF_Train)\n",
    "#print(\" Train Accuracy:\",Accuracy_RF_Test)\n",
    "print(\"Confusion Matrix:\\n\",metrics.confusion_matrix(y_test, pred_RF1))\n",
    "\n",
    "Recall_RF = recall_score(y_test,pred_RF1,average=\"binary\", pos_label=1)\n",
    "\n",
    "#Store the accuracy results for each model in a dataframe for final comparison\n",
    "resultsDf = pd.DataFrame({'Method':['Random Forest'], 'Train Accuracy': Accuracy_RF_Train, 'Test Accuracy': Accuracy_RF_Test , 'Recall': Recall_RF})\n",
    "resultsDf = resultsDf[['Method', 'Train Accuracy', 'Test Accuracy', 'Recall']]\n",
    "resultsDf\n",
    "\n"
   ]
  },
  {
   "cell_type": "code",
   "execution_count": 25,
   "metadata": {},
   "outputs": [
    {
     "name": "stdout",
     "output_type": "stream",
     "text": [
      "Confusion Matrix:\n",
      " [[1191    0]\n",
      " [ 309    0]]\n"
     ]
    },
    {
     "data": {
      "text/html": [
       "<div>\n",
       "<style scoped>\n",
       "    .dataframe tbody tr th:only-of-type {\n",
       "        vertical-align: middle;\n",
       "    }\n",
       "\n",
       "    .dataframe tbody tr th {\n",
       "        vertical-align: top;\n",
       "    }\n",
       "\n",
       "    .dataframe thead th {\n",
       "        text-align: right;\n",
       "    }\n",
       "</style>\n",
       "<table border=\"1\" class=\"dataframe\">\n",
       "  <thead>\n",
       "    <tr style=\"text-align: right;\">\n",
       "      <th></th>\n",
       "      <th>Method</th>\n",
       "      <th>Train Accuracy</th>\n",
       "      <th>Test Accuracy</th>\n",
       "      <th>Recall</th>\n",
       "    </tr>\n",
       "  </thead>\n",
       "  <tbody>\n",
       "    <tr>\n",
       "      <th>0</th>\n",
       "      <td>ADA Boosting</td>\n",
       "      <td>0.799143</td>\n",
       "      <td>0.794</td>\n",
       "      <td>0.0</td>\n",
       "    </tr>\n",
       "  </tbody>\n",
       "</table>\n",
       "</div>"
      ],
      "text/plain": [
       "         Method  Train Accuracy  Test Accuracy  Recall\n",
       "0  ADA Boosting        0.799143          0.794     0.0"
      ]
     },
     "execution_count": 25,
     "metadata": {},
     "output_type": "execute_result"
    }
   ],
   "source": [
    "# Library\n",
    "from sklearn.ensemble import AdaBoostClassifier\n",
    "\n",
    "# Model\n",
    "model_ADA_Boost = AdaBoostClassifier( n_estimators= 50, learning_rate=0.001, random_state=52)\n",
    "abcl = model_ADA_Boost.fit(X_train, y_train)\n",
    "\n",
    "# Accuracy\n",
    "pred_AB =model_ADA_Boost.predict(X_train)\n",
    "Accuracy_ADA_Train = accuracy_score(y_train, pred_AB)\n",
    "#print(\"Training Accuracy:\",acc_AB)\n",
    "\n",
    "pred_AB =model_ADA_Boost.predict(X_test)\n",
    "Accuracy_ADA_Test = accuracy_score(y_test, pred_AB)\n",
    "# print(\"Training Accuracy:\",acc_AB)\n",
    "print(\"Confusion Matrix:\\n\",metrics.confusion_matrix(y_test, pred_AB))\n",
    "\n",
    "Recall_Ada = recall_score(y_test,pred_AB,average=\"binary\", pos_label=1)\n",
    "\n",
    "#Store the accuracy results for each model in a dataframe for final comparison\n",
    "resultsDf = pd.DataFrame({'Method':['ADA Boosting'], 'Train Accuracy': Accuracy_ADA_Train, 'Test Accuracy': Accuracy_ADA_Test , 'Recall': Recall_Ada})\n",
    "resultsDf = resultsDf[['Method', 'Train Accuracy', 'Test Accuracy', 'Recall']]\n",
    "resultsDf\n",
    "\n",
    "\n"
   ]
  },
  {
   "cell_type": "code",
   "execution_count": 26,
   "metadata": {},
   "outputs": [
    {
     "name": "stdout",
     "output_type": "stream",
     "text": [
      "Confusion Matrix:\n",
      " [[1191    0]\n",
      " [ 309    0]]\n"
     ]
    },
    {
     "data": {
      "text/html": [
       "<div>\n",
       "<style scoped>\n",
       "    .dataframe tbody tr th:only-of-type {\n",
       "        vertical-align: middle;\n",
       "    }\n",
       "\n",
       "    .dataframe tbody tr th {\n",
       "        vertical-align: top;\n",
       "    }\n",
       "\n",
       "    .dataframe thead th {\n",
       "        text-align: right;\n",
       "    }\n",
       "</style>\n",
       "<table border=\"1\" class=\"dataframe\">\n",
       "  <thead>\n",
       "    <tr style=\"text-align: right;\">\n",
       "      <th></th>\n",
       "      <th>Method</th>\n",
       "      <th>Train Accuracy</th>\n",
       "      <th>Test Accuracy</th>\n",
       "      <th>Recall</th>\n",
       "    </tr>\n",
       "  </thead>\n",
       "  <tbody>\n",
       "    <tr>\n",
       "      <th>0</th>\n",
       "      <td>Gradient Boosting</td>\n",
       "      <td>0.799143</td>\n",
       "      <td>0.794</td>\n",
       "      <td>0.0</td>\n",
       "    </tr>\n",
       "  </tbody>\n",
       "</table>\n",
       "</div>"
      ],
      "text/plain": [
       "              Method  Train Accuracy  Test Accuracy  Recall\n",
       "0  Gradient Boosting        0.799143          0.794     0.0"
      ]
     },
     "execution_count": 26,
     "metadata": {},
     "output_type": "execute_result"
    }
   ],
   "source": [
    "# Library\n",
    "from sklearn.ensemble import GradientBoostingClassifier\n",
    "\n",
    "# Model\n",
    "model_Grad = GradientBoostingClassifier(n_estimators = 50, learning_rate = 0.001, random_state=52)\n",
    "model_Grad = model_Grad.fit(X_train, y_train)\n",
    "\n",
    "# Accuracy\n",
    "pred_GB =model_Grad.predict(X_train)\n",
    "Accuracy_GRAD_Train = accuracy_score(y_train, pred_GB)\n",
    "#print(\"Training Accuracy:\",acc_GB)\n",
    "\n",
    "# Accuracy\n",
    "pred_GB =model_Grad.predict(X_test)\n",
    "Accuracy_GRAD_Test = accuracy_score(y_test, pred_GB)\n",
    "#print(\"Training Accuracy:\",acc_GB)\n",
    "print(\"Confusion Matrix:\\n\",metrics.confusion_matrix(y_test, pred_GB))\n",
    "\n",
    "Recall_Grad = recall_score(y_test,pred_GB,average=\"binary\", pos_label=1)\n",
    "\n",
    "#Store the accuracy results for each model in a dataframe for final comparison\n",
    "resultsDf = pd.DataFrame({'Method':['Gradient Boosting'], 'Train Accuracy': Accuracy_GRAD_Train, 'Test Accuracy': Accuracy_GRAD_Test , 'Recall': Recall_Grad})\n",
    "resultsDf = resultsDf[['Method', 'Train Accuracy', 'Test Accuracy', 'Recall']]\n",
    "resultsDf"
   ]
  },
  {
   "cell_type": "code",
   "execution_count": 27,
   "metadata": {},
   "outputs": [
    {
     "name": "stdout",
     "output_type": "stream",
     "text": [
      "Confusion Matrix:\n",
      " [[1141   50]\n",
      " [ 291   18]]\n"
     ]
    },
    {
     "data": {
      "text/html": [
       "<div>\n",
       "<style scoped>\n",
       "    .dataframe tbody tr th:only-of-type {\n",
       "        vertical-align: middle;\n",
       "    }\n",
       "\n",
       "    .dataframe tbody tr th {\n",
       "        vertical-align: top;\n",
       "    }\n",
       "\n",
       "    .dataframe thead th {\n",
       "        text-align: right;\n",
       "    }\n",
       "</style>\n",
       "<table border=\"1\" class=\"dataframe\">\n",
       "  <thead>\n",
       "    <tr style=\"text-align: right;\">\n",
       "      <th></th>\n",
       "      <th>Method</th>\n",
       "      <th>Train Accuracy</th>\n",
       "      <th>Test Accuracy</th>\n",
       "      <th>Recall</th>\n",
       "    </tr>\n",
       "  </thead>\n",
       "  <tbody>\n",
       "    <tr>\n",
       "      <th>0</th>\n",
       "      <td>Bagging</td>\n",
       "      <td>0.968857</td>\n",
       "      <td>0.772667</td>\n",
       "      <td>0.058252</td>\n",
       "    </tr>\n",
       "  </tbody>\n",
       "</table>\n",
       "</div>"
      ],
      "text/plain": [
       "    Method  Train Accuracy  Test Accuracy    Recall\n",
       "0  Bagging        0.968857       0.772667  0.058252"
      ]
     },
     "execution_count": 27,
     "metadata": {},
     "output_type": "execute_result"
    }
   ],
   "source": [
    "# Library\n",
    "from sklearn.ensemble import BaggingClassifier\n",
    "\n",
    "# Model\n",
    "model_BAG = BaggingClassifier(n_estimators=20, max_samples=.8, random_state=100)\n",
    "model_BAG = model_BAG.fit(X_train, y_train)\n",
    "\n",
    "# Accuracy\n",
    "pred_BG =model_BAG.predict(X_train)\n",
    "Accuracy_BAG_Train = accuracy_score(y_train, pred_BG)\n",
    "#print(\"Training Accuracy:\",Accuracy_BAG_Train)\n",
    "\n",
    "pred_BG =model_BAG.predict(X_test)\n",
    "Accuracy_BAG_Test = accuracy_score(y_test, pred_BG)\n",
    "#print(\"Training Accuracy:\",Accuracy_BAG_Test)\n",
    "print(\"Confusion Matrix:\\n\",metrics.confusion_matrix(y_test, pred_BG))\n",
    "\n",
    "Recall_BAG = recall_score(y_test,pred_BG,average=\"binary\", pos_label=1)\n",
    "\n",
    "#Store the accuracy results for each model in a dataframe for final comparison\n",
    "resultsDf = pd.DataFrame({'Method':['Bagging'], 'Train Accuracy': Accuracy_BAG_Train, 'Test Accuracy': Accuracy_BAG_Test , 'Recall': Recall_BAG})\n",
    "resultsDf = resultsDf[['Method', 'Train Accuracy', 'Test Accuracy', 'Recall']]\n",
    "resultsDf"
   ]
  },
  {
   "cell_type": "markdown",
   "metadata": {},
   "source": [
    "# Choose the best working algorithm from above"
   ]
  }
 ],
 "metadata": {
  "kernelspec": {
   "display_name": "Python 3",
   "language": "python",
   "name": "python3"
  },
  "language_info": {
   "codemirror_mode": {
    "name": "ipython",
    "version": 3
   },
   "file_extension": ".py",
   "mimetype": "text/x-python",
   "name": "python",
   "nbconvert_exporter": "python",
   "pygments_lexer": "ipython3",
   "version": "3.7.1"
  }
 },
 "nbformat": 4,
 "nbformat_minor": 2
}
